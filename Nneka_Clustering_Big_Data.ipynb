{
  "nbformat": 4,
  "nbformat_minor": 0,
  "metadata": {
    "colab": {
      "provenance": []
    },
    "kernelspec": {
      "name": "python3",
      "display_name": "Python 3"
    },
    "language_info": {
      "name": "python"
    }
  },
  "cells": [
    {
      "cell_type": "code",
      "execution_count": null,
      "metadata": {
        "colab": {
          "base_uri": "https://localhost:8080/"
        },
        "id": "J635n7u_1_sz",
        "outputId": "43d34b04-aa7e-48a1-f1d8-f03cbeb6cd22"
      },
      "outputs": [
        {
          "output_type": "stream",
          "name": "stdout",
          "text": [
            "Reading package lists... Done\n",
            "Building dependency tree       \n",
            "Reading state information... Done\n",
            "The following package was automatically installed and is no longer required:\n",
            "  libnvidia-common-460\n",
            "Use 'apt autoremove' to remove it.\n",
            "The following additional packages will be installed:\n",
            "  openjdk-8-jre-headless\n",
            "Suggested packages:\n",
            "  openjdk-8-demo openjdk-8-source libnss-mdns fonts-dejavu-extra\n",
            "  fonts-ipafont-gothic fonts-ipafont-mincho fonts-wqy-microhei\n",
            "  fonts-wqy-zenhei fonts-indic\n",
            "The following NEW packages will be installed:\n",
            "  openjdk-8-jdk-headless openjdk-8-jre-headless\n",
            "0 upgraded, 2 newly installed, 0 to remove and 42 not upgraded.\n",
            "Need to get 36.5 MB of archives.\n",
            "After this operation, 143 MB of additional disk space will be used.\n",
            "Get:1 http://archive.ubuntu.com/ubuntu bionic-updates/universe amd64 openjdk-8-jre-headless amd64 8u312-b07-0ubuntu1~18.04 [28.2 MB]\n",
            "Get:2 http://archive.ubuntu.com/ubuntu bionic-updates/universe amd64 openjdk-8-jdk-headless amd64 8u312-b07-0ubuntu1~18.04 [8,298 kB]\n",
            "Fetched 36.5 MB in 2s (21.9 MB/s)\n",
            "Selecting previously unselected package openjdk-8-jre-headless:amd64.\n",
            "(Reading database ... 155629 files and directories currently installed.)\n",
            "Preparing to unpack .../openjdk-8-jre-headless_8u312-b07-0ubuntu1~18.04_amd64.deb ...\n",
            "Unpacking openjdk-8-jre-headless:amd64 (8u312-b07-0ubuntu1~18.04) ...\n",
            "Selecting previously unselected package openjdk-8-jdk-headless:amd64.\n",
            "Preparing to unpack .../openjdk-8-jdk-headless_8u312-b07-0ubuntu1~18.04_amd64.deb ...\n",
            "Unpacking openjdk-8-jdk-headless:amd64 (8u312-b07-0ubuntu1~18.04) ...\n",
            "Setting up openjdk-8-jre-headless:amd64 (8u312-b07-0ubuntu1~18.04) ...\n",
            "update-alternatives: using /usr/lib/jvm/java-8-openjdk-amd64/jre/bin/orbd to provide /usr/bin/orbd (orbd) in auto mode\n",
            "update-alternatives: using /usr/lib/jvm/java-8-openjdk-amd64/jre/bin/servertool to provide /usr/bin/servertool (servertool) in auto mode\n",
            "update-alternatives: using /usr/lib/jvm/java-8-openjdk-amd64/jre/bin/tnameserv to provide /usr/bin/tnameserv (tnameserv) in auto mode\n",
            "Setting up openjdk-8-jdk-headless:amd64 (8u312-b07-0ubuntu1~18.04) ...\n",
            "update-alternatives: using /usr/lib/jvm/java-8-openjdk-amd64/bin/idlj to provide /usr/bin/idlj (idlj) in auto mode\n",
            "update-alternatives: using /usr/lib/jvm/java-8-openjdk-amd64/bin/wsimport to provide /usr/bin/wsimport (wsimport) in auto mode\n",
            "update-alternatives: using /usr/lib/jvm/java-8-openjdk-amd64/bin/jsadebugd to provide /usr/bin/jsadebugd (jsadebugd) in auto mode\n",
            "update-alternatives: using /usr/lib/jvm/java-8-openjdk-amd64/bin/native2ascii to provide /usr/bin/native2ascii (native2ascii) in auto mode\n",
            "update-alternatives: using /usr/lib/jvm/java-8-openjdk-amd64/bin/javah to provide /usr/bin/javah (javah) in auto mode\n",
            "update-alternatives: using /usr/lib/jvm/java-8-openjdk-amd64/bin/hsdb to provide /usr/bin/hsdb (hsdb) in auto mode\n",
            "update-alternatives: using /usr/lib/jvm/java-8-openjdk-amd64/bin/clhsdb to provide /usr/bin/clhsdb (clhsdb) in auto mode\n",
            "update-alternatives: using /usr/lib/jvm/java-8-openjdk-amd64/bin/xjc to provide /usr/bin/xjc (xjc) in auto mode\n",
            "update-alternatives: using /usr/lib/jvm/java-8-openjdk-amd64/bin/schemagen to provide /usr/bin/schemagen (schemagen) in auto mode\n",
            "update-alternatives: using /usr/lib/jvm/java-8-openjdk-amd64/bin/extcheck to provide /usr/bin/extcheck (extcheck) in auto mode\n",
            "update-alternatives: using /usr/lib/jvm/java-8-openjdk-amd64/bin/jhat to provide /usr/bin/jhat (jhat) in auto mode\n",
            "update-alternatives: using /usr/lib/jvm/java-8-openjdk-amd64/bin/wsgen to provide /usr/bin/wsgen (wsgen) in auto mode\n"
          ]
        }
      ],
      "source": [
        "!apt-get install openjdk-8-jdk-headless"
      ]
    },
    {
      "cell_type": "code",
      "source": [
        "!wget https://archive.apache.org/dist/spark/spark-3.2.1/spark-3.2.1-bin-hadoop2.7.tgz"
      ],
      "metadata": {
        "colab": {
          "base_uri": "https://localhost:8080/"
        },
        "id": "PQP7zjQ42Fn8",
        "outputId": "b73e1926-e32b-40c8-a8e9-9f2fa36c8e9b"
      },
      "execution_count": null,
      "outputs": [
        {
          "output_type": "stream",
          "name": "stdout",
          "text": [
            "--2022-05-20 01:08:05--  https://archive.apache.org/dist/spark/spark-3.2.1/spark-3.2.1-bin-hadoop2.7.tgz\n",
            "Resolving archive.apache.org (archive.apache.org)... 138.201.131.134, 2a01:4f8:172:2ec5::2\n",
            "Connecting to archive.apache.org (archive.apache.org)|138.201.131.134|:443... connected.\n",
            "HTTP request sent, awaiting response... 200 OK\n",
            "Length: 272637746 (260M) [application/x-gzip]\n",
            "Saving to: ‘spark-3.2.1-bin-hadoop2.7.tgz’\n",
            "\n",
            "spark-3.2.1-bin-had 100%[===================>] 260.01M  20.1MB/s    in 14s     \n",
            "\n",
            "2022-05-20 01:08:20 (18.6 MB/s) - ‘spark-3.2.1-bin-hadoop2.7.tgz’ saved [272637746/272637746]\n",
            "\n"
          ]
        }
      ]
    },
    {
      "cell_type": "code",
      "source": [
        "!tar xf /content/spark-3.2.1-bin-hadoop2.7.tgz"
      ],
      "metadata": {
        "id": "aYKXSP1Q2cUX"
      },
      "execution_count": null,
      "outputs": []
    },
    {
      "cell_type": "code",
      "source": [
        "!pip install -q findspark"
      ],
      "metadata": {
        "id": "A-tXFDBg2d5A"
      },
      "execution_count": null,
      "outputs": []
    },
    {
      "cell_type": "code",
      "source": [
        "import os\n",
        "os.environ[\"JAVA_HOME\"] = \"/usr/lib/jvm/java-8-openjdk-amd64\"\n",
        "os.environ[\"SPARK_HOME\"] = \"/content/spark-3.2.1-bin-hadoop2.7\""
      ],
      "metadata": {
        "id": "ziRaTdQl2hQ6"
      },
      "execution_count": null,
      "outputs": []
    },
    {
      "cell_type": "code",
      "source": [
        "import findspark\n",
        "findspark.init()\n",
        "findspark.find()"
      ],
      "metadata": {
        "colab": {
          "base_uri": "https://localhost:8080/",
          "height": 36
        },
        "id": "hoJaK-CA2k22",
        "outputId": "ecbe96ae-e8cb-46b1-ea0f-e300aed85793"
      },
      "execution_count": null,
      "outputs": [
        {
          "output_type": "execute_result",
          "data": {
            "text/plain": [
              "'/content/spark-3.2.1-bin-hadoop2.7'"
            ],
            "application/vnd.google.colaboratory.intrinsic+json": {
              "type": "string"
            }
          },
          "metadata": {},
          "execution_count": 6
        }
      ]
    },
    {
      "cell_type": "code",
      "source": [
        "import pyspark\n",
        "import numpy as np\n",
        "import pandas as pd"
      ],
      "metadata": {
        "id": "ZN-xap_D2k5Q"
      },
      "execution_count": null,
      "outputs": []
    },
    {
      "cell_type": "code",
      "source": [
        "from pyspark.sql import SparkSession\n",
        "\n",
        "spark = SparkSession.builder.master('local[*]').appName('CatchPinkFlamingo').getOrCreate()\n",
        "\n",
        "# Read data from CSV file\n",
        "combinedData=spark.read.csv('/content/combined-data1.csv', header=True, inferSchema=True)\n",
        "combinedData.show(5)"
      ],
      "metadata": {
        "colab": {
          "base_uri": "https://localhost:8080/"
        },
        "id": "Oo0IzPSc2k7s",
        "outputId": "898d2f6f-4335-4d0f-abf3-113878548ce7"
      },
      "execution_count": null,
      "outputs": [
        {
          "output_type": "stream",
          "name": "stdout",
          "text": [
            "+------+-------------+---------+------------+----------------+----------+-----------+---------+\n",
            "|userId|userSessionId|teamLevel|platformType|count_gameclicks|count_hits|count_buyId|avg_price|\n",
            "+------+-------------+---------+------------+----------------+----------+-----------+---------+\n",
            "|   812|         5648|        1|     android|              69|         8|       null|     null|\n",
            "|  1658|         5649|        1|      iphone|              31|         5|       null|     null|\n",
            "|  1589|         5650|        1|      iphone|              26|         2|       null|     null|\n",
            "|  1863|         5651|        1|     android|              35|         4|       null|     null|\n",
            "|   937|         5652|        1|     android|              39|         0|          1|      1.0|\n",
            "+------+-------------+---------+------------+----------------+----------+-----------+---------+\n",
            "only showing top 5 rows\n",
            "\n"
          ]
        }
      ]
    },
    {
      "cell_type": "code",
      "source": [
        "combinedData.count()"
      ],
      "metadata": {
        "colab": {
          "base_uri": "https://localhost:8080/"
        },
        "id": "eglK5zH87flF",
        "outputId": "07209b1f-6d87-4b93-d2ba-ebdada562fca"
      },
      "execution_count": null,
      "outputs": [
        {
          "output_type": "execute_result",
          "data": {
            "text/plain": [
              "4619"
            ]
          },
          "metadata": {},
          "execution_count": 10
        }
      ]
    },
    {
      "cell_type": "code",
      "source": [
        "combinedData1=combinedData.withColumn(\"hit_accuracy\", (combinedData.count_hits/combinedData.count_gameclicks))\n",
        "combinedData1.show(5)\n"
      ],
      "metadata": {
        "colab": {
          "base_uri": "https://localhost:8080/"
        },
        "id": "q542qU3H8LOn",
        "outputId": "effd13bd-fe9c-41b5-a504-d1eb929c70c1"
      },
      "execution_count": null,
      "outputs": [
        {
          "output_type": "stream",
          "name": "stdout",
          "text": [
            "+------+-------------+---------+------------+----------------+----------+-----------+---------+-------------------+\n",
            "|userId|userSessionId|teamLevel|platformType|count_gameclicks|count_hits|count_buyId|avg_price|       hit_accuracy|\n",
            "+------+-------------+---------+------------+----------------+----------+-----------+---------+-------------------+\n",
            "|   812|         5648|        1|     android|              69|         8|       null|     null|0.11594202898550725|\n",
            "|  1658|         5649|        1|      iphone|              31|         5|       null|     null|0.16129032258064516|\n",
            "|  1589|         5650|        1|      iphone|              26|         2|       null|     null|0.07692307692307693|\n",
            "|  1863|         5651|        1|     android|              35|         4|       null|     null|0.11428571428571428|\n",
            "|   937|         5652|        1|     android|              39|         0|          1|      1.0|                0.0|\n",
            "+------+-------------+---------+------------+----------------+----------+-----------+---------+-------------------+\n",
            "only showing top 5 rows\n",
            "\n"
          ]
        }
      ]
    },
    {
      "cell_type": "code",
      "source": [
        "# Remove the 'userId' column\n",
        "combined_data_drop_column = combinedData1.drop('userSessionId','platformType')\n",
        "# Number of records with missing 'avg_price' values\n",
        "combined_data_drop_column.filter('avg_price is NULL').count()\n",
        "\n",
        "# Remove records with missing 'avg_price' values\n",
        "valid_avg_price = combined_data_drop_column.filter('avg_price IS NOT NULL')\n",
        "\n",
        "# Remove records with missing values in any column and get the number of remaining rows\n",
        "cleanData = valid_avg_price.dropna()\n",
        "print(cleanData.count())"
      ],
      "metadata": {
        "colab": {
          "base_uri": "https://localhost:8080/"
        },
        "id": "rKXGVQcN7jNT",
        "outputId": "3dd0e533-9b4d-4b1d-c7ce-4060c6eb61ad"
      },
      "execution_count": null,
      "outputs": [
        {
          "output_type": "stream",
          "name": "stdout",
          "text": [
            "1411\n"
          ]
        }
      ]
    },
    {
      "cell_type": "code",
      "source": [
        "cleanData.show()"
      ],
      "metadata": {
        "colab": {
          "base_uri": "https://localhost:8080/"
        },
        "id": "ZIAVy6n17pdi",
        "outputId": "10280792-e818-4a5c-b9f8-0a31d4111d0e"
      },
      "execution_count": null,
      "outputs": [
        {
          "output_type": "stream",
          "name": "stdout",
          "text": [
            "+------+---------+----------------+----------+-----------+---------+--------------------+\n",
            "|userId|teamLevel|count_gameclicks|count_hits|count_buyId|avg_price|        hit_accuracy|\n",
            "+------+---------+----------------+----------+-----------+---------+--------------------+\n",
            "|   937|        1|              39|         0|          1|      1.0|                 0.0|\n",
            "|  1623|        1|             129|         9|          1|     10.0| 0.06976744186046512|\n",
            "|    83|        1|             102|        14|          1|      5.0| 0.13725490196078433|\n",
            "|   121|        1|              39|         4|          1|      3.0| 0.10256410256410256|\n",
            "|   462|        1|              90|        10|          1|      3.0|  0.1111111111111111|\n",
            "|   819|        1|              51|         8|          1|     20.0|  0.1568627450980392|\n",
            "|  2199|        1|              51|         6|          2|      2.5| 0.11764705882352941|\n",
            "|  1143|        1|              47|         5|          2|      2.0| 0.10638297872340426|\n",
            "|  1652|        1|              46|         7|          1|      1.0| 0.15217391304347827|\n",
            "|  2222|        1|              41|         6|          1|     20.0| 0.14634146341463414|\n",
            "|   374|        1|              47|         7|          1|      3.0| 0.14893617021276595|\n",
            "|  1535|        1|              76|         7|          1|     20.0| 0.09210526315789473|\n",
            "|    21|        1|              52|         2|          1|      3.0|0.038461538461538464|\n",
            "|  2379|        1|              62|         9|          1|      3.0| 0.14516129032258066|\n",
            "|  1807|        1|             177|        25|          2|      7.5| 0.14124293785310735|\n",
            "|   868|        1|              54|         5|          1|     10.0| 0.09259259259259259|\n",
            "|  1567|        1|              27|         4|          2|      4.0| 0.14814814814814814|\n",
            "|   221|        1|              37|         2|          1|     20.0| 0.05405405405405406|\n",
            "|  2306|        1|              67|         5|          1|      1.0| 0.07462686567164178|\n",
            "|  1065|        1|              37|         5|          2|     11.5| 0.13513513513513514|\n",
            "+------+---------+----------------+----------+-----------+---------+--------------------+\n",
            "only showing top 20 rows\n",
            "\n"
          ]
        }
      ]
    },
    {
      "cell_type": "code",
      "source": [
        "cleanData=cleanData.withColumn(\"revenue\", (cleanData.count_buyId*cleanData.avg_price))\n",
        "cleanData.show()\n",
        "cleanData.count()"
      ],
      "metadata": {
        "colab": {
          "base_uri": "https://localhost:8080/"
        },
        "id": "fXVriNX1fcai",
        "outputId": "82a35ff5-2e27-4835-c626-ec98fa960653"
      },
      "execution_count": null,
      "outputs": [
        {
          "output_type": "stream",
          "name": "stdout",
          "text": [
            "+------+---------+----------------+----------+-----------+---------+--------------------+-------+\n",
            "|userId|teamLevel|count_gameclicks|count_hits|count_buyId|avg_price|        hit_accuracy|revenue|\n",
            "+------+---------+----------------+----------+-----------+---------+--------------------+-------+\n",
            "|   937|        1|              39|         0|          1|      1.0|                 0.0|    1.0|\n",
            "|  1623|        1|             129|         9|          1|     10.0| 0.06976744186046512|   10.0|\n",
            "|    83|        1|             102|        14|          1|      5.0| 0.13725490196078433|    5.0|\n",
            "|   121|        1|              39|         4|          1|      3.0| 0.10256410256410256|    3.0|\n",
            "|   462|        1|              90|        10|          1|      3.0|  0.1111111111111111|    3.0|\n",
            "|   819|        1|              51|         8|          1|     20.0|  0.1568627450980392|   20.0|\n",
            "|  2199|        1|              51|         6|          2|      2.5| 0.11764705882352941|    5.0|\n",
            "|  1143|        1|              47|         5|          2|      2.0| 0.10638297872340426|    4.0|\n",
            "|  1652|        1|              46|         7|          1|      1.0| 0.15217391304347827|    1.0|\n",
            "|  2222|        1|              41|         6|          1|     20.0| 0.14634146341463414|   20.0|\n",
            "|   374|        1|              47|         7|          1|      3.0| 0.14893617021276595|    3.0|\n",
            "|  1535|        1|              76|         7|          1|     20.0| 0.09210526315789473|   20.0|\n",
            "|    21|        1|              52|         2|          1|      3.0|0.038461538461538464|    3.0|\n",
            "|  2379|        1|              62|         9|          1|      3.0| 0.14516129032258066|    3.0|\n",
            "|  1807|        1|             177|        25|          2|      7.5| 0.14124293785310735|   15.0|\n",
            "|   868|        1|              54|         5|          1|     10.0| 0.09259259259259259|   10.0|\n",
            "|  1567|        1|              27|         4|          2|      4.0| 0.14814814814814814|    8.0|\n",
            "|   221|        1|              37|         2|          1|     20.0| 0.05405405405405406|   20.0|\n",
            "|  2306|        1|              67|         5|          1|      1.0| 0.07462686567164178|    1.0|\n",
            "|  1065|        1|              37|         5|          2|     11.5| 0.13513513513513514|   23.0|\n",
            "+------+---------+----------------+----------+-----------+---------+--------------------+-------+\n",
            "only showing top 20 rows\n",
            "\n"
          ]
        },
        {
          "output_type": "execute_result",
          "data": {
            "text/plain": [
              "1411"
            ]
          },
          "metadata": {},
          "execution_count": 16
        }
      ]
    },
    {
      "cell_type": "code",
      "source": [
        "cleanData.printSchema()"
      ],
      "metadata": {
        "colab": {
          "base_uri": "https://localhost:8080/"
        },
        "id": "MDB1hW0X7scL",
        "outputId": "9d606267-eaeb-4730-a8ee-85f7268eff98"
      },
      "execution_count": null,
      "outputs": [
        {
          "output_type": "stream",
          "name": "stdout",
          "text": [
            "root\n",
            " |-- userId: integer (nullable = true)\n",
            " |-- teamLevel: integer (nullable = true)\n",
            " |-- count_gameclicks: integer (nullable = true)\n",
            " |-- count_hits: integer (nullable = true)\n",
            " |-- count_buyId: integer (nullable = true)\n",
            " |-- avg_price: double (nullable = true)\n",
            " |-- hit_accuracy: double (nullable = true)\n",
            " |-- revenue: double (nullable = true)\n",
            "\n"
          ]
        }
      ]
    },
    {
      "cell_type": "code",
      "source": [
        "cleanData.columns"
      ],
      "metadata": {
        "colab": {
          "base_uri": "https://localhost:8080/"
        },
        "id": "FpZql736_PFg",
        "outputId": "e4684bc5-0de9-4146-e7d6-4b20fe80bd22"
      },
      "execution_count": null,
      "outputs": [
        {
          "output_type": "execute_result",
          "data": {
            "text/plain": [
              "['userId',\n",
              " 'teamLevel',\n",
              " 'count_gameclicks',\n",
              " 'count_hits',\n",
              " 'count_buyId',\n",
              " 'avg_price',\n",
              " 'hit_accuracy',\n",
              " 'revenue']"
            ]
          },
          "metadata": {},
          "execution_count": 18
        }
      ]
    },
    {
      "cell_type": "code",
      "source": [
        "cleanData.describe().toPandas().transpose()"
      ],
      "metadata": {
        "colab": {
          "base_uri": "https://localhost:8080/",
          "height": 331
        },
        "id": "0-1HBQsei1Wo",
        "outputId": "2a0c3c43-1be2-417b-acea-e782ebf33539"
      },
      "execution_count": null,
      "outputs": [
        {
          "output_type": "execute_result",
          "data": {
            "text/plain": [
              "                      0                    1                    2    3  \\\n",
              "summary           count                 mean               stddev  min   \n",
              "userId             1411   1201.0751240255138    691.9957569853385    1   \n",
              "teamLevel          1411    4.834160170092133   1.7914678556629045    1   \n",
              "count_gameclicks   1411   145.23458540042523   119.76291399660911    6   \n",
              "count_hits         1411   16.758327427356484   13.565930146754264    0   \n",
              "count_buyId        1411   1.6832034018426647   0.9005088871085436    1   \n",
              "avg_price          1411    7.214323175053155    6.536501375588665  1.0   \n",
              "hit_accuracy       1411  0.11736625840531585  0.03617467266586428  0.0   \n",
              "revenue            1411   12.040524450744158   12.834784617540613  1.0   \n",
              "\n",
              "                                    4  \n",
              "summary                           max  \n",
              "userId                           2387  \n",
              "teamLevel                           7  \n",
              "count_gameclicks                  982  \n",
              "count_hits                        100  \n",
              "count_buyId                         6  \n",
              "avg_price                        20.0  \n",
              "hit_accuracy      0.38461538461538464  \n",
              "revenue                         100.0  "
            ],
            "text/html": [
              "\n",
              "  <div id=\"df-640c9db2-3262-4278-aeb4-3b7f1bf19d59\">\n",
              "    <div class=\"colab-df-container\">\n",
              "      <div>\n",
              "<style scoped>\n",
              "    .dataframe tbody tr th:only-of-type {\n",
              "        vertical-align: middle;\n",
              "    }\n",
              "\n",
              "    .dataframe tbody tr th {\n",
              "        vertical-align: top;\n",
              "    }\n",
              "\n",
              "    .dataframe thead th {\n",
              "        text-align: right;\n",
              "    }\n",
              "</style>\n",
              "<table border=\"1\" class=\"dataframe\">\n",
              "  <thead>\n",
              "    <tr style=\"text-align: right;\">\n",
              "      <th></th>\n",
              "      <th>0</th>\n",
              "      <th>1</th>\n",
              "      <th>2</th>\n",
              "      <th>3</th>\n",
              "      <th>4</th>\n",
              "    </tr>\n",
              "  </thead>\n",
              "  <tbody>\n",
              "    <tr>\n",
              "      <th>summary</th>\n",
              "      <td>count</td>\n",
              "      <td>mean</td>\n",
              "      <td>stddev</td>\n",
              "      <td>min</td>\n",
              "      <td>max</td>\n",
              "    </tr>\n",
              "    <tr>\n",
              "      <th>userId</th>\n",
              "      <td>1411</td>\n",
              "      <td>1201.0751240255138</td>\n",
              "      <td>691.9957569853385</td>\n",
              "      <td>1</td>\n",
              "      <td>2387</td>\n",
              "    </tr>\n",
              "    <tr>\n",
              "      <th>teamLevel</th>\n",
              "      <td>1411</td>\n",
              "      <td>4.834160170092133</td>\n",
              "      <td>1.7914678556629045</td>\n",
              "      <td>1</td>\n",
              "      <td>7</td>\n",
              "    </tr>\n",
              "    <tr>\n",
              "      <th>count_gameclicks</th>\n",
              "      <td>1411</td>\n",
              "      <td>145.23458540042523</td>\n",
              "      <td>119.76291399660911</td>\n",
              "      <td>6</td>\n",
              "      <td>982</td>\n",
              "    </tr>\n",
              "    <tr>\n",
              "      <th>count_hits</th>\n",
              "      <td>1411</td>\n",
              "      <td>16.758327427356484</td>\n",
              "      <td>13.565930146754264</td>\n",
              "      <td>0</td>\n",
              "      <td>100</td>\n",
              "    </tr>\n",
              "    <tr>\n",
              "      <th>count_buyId</th>\n",
              "      <td>1411</td>\n",
              "      <td>1.6832034018426647</td>\n",
              "      <td>0.9005088871085436</td>\n",
              "      <td>1</td>\n",
              "      <td>6</td>\n",
              "    </tr>\n",
              "    <tr>\n",
              "      <th>avg_price</th>\n",
              "      <td>1411</td>\n",
              "      <td>7.214323175053155</td>\n",
              "      <td>6.536501375588665</td>\n",
              "      <td>1.0</td>\n",
              "      <td>20.0</td>\n",
              "    </tr>\n",
              "    <tr>\n",
              "      <th>hit_accuracy</th>\n",
              "      <td>1411</td>\n",
              "      <td>0.11736625840531585</td>\n",
              "      <td>0.03617467266586428</td>\n",
              "      <td>0.0</td>\n",
              "      <td>0.38461538461538464</td>\n",
              "    </tr>\n",
              "    <tr>\n",
              "      <th>revenue</th>\n",
              "      <td>1411</td>\n",
              "      <td>12.040524450744158</td>\n",
              "      <td>12.834784617540613</td>\n",
              "      <td>1.0</td>\n",
              "      <td>100.0</td>\n",
              "    </tr>\n",
              "  </tbody>\n",
              "</table>\n",
              "</div>\n",
              "      <button class=\"colab-df-convert\" onclick=\"convertToInteractive('df-640c9db2-3262-4278-aeb4-3b7f1bf19d59')\"\n",
              "              title=\"Convert this dataframe to an interactive table.\"\n",
              "              style=\"display:none;\">\n",
              "        \n",
              "  <svg xmlns=\"http://www.w3.org/2000/svg\" height=\"24px\"viewBox=\"0 0 24 24\"\n",
              "       width=\"24px\">\n",
              "    <path d=\"M0 0h24v24H0V0z\" fill=\"none\"/>\n",
              "    <path d=\"M18.56 5.44l.94 2.06.94-2.06 2.06-.94-2.06-.94-.94-2.06-.94 2.06-2.06.94zm-11 1L8.5 8.5l.94-2.06 2.06-.94-2.06-.94L8.5 2.5l-.94 2.06-2.06.94zm10 10l.94 2.06.94-2.06 2.06-.94-2.06-.94-.94-2.06-.94 2.06-2.06.94z\"/><path d=\"M17.41 7.96l-1.37-1.37c-.4-.4-.92-.59-1.43-.59-.52 0-1.04.2-1.43.59L10.3 9.45l-7.72 7.72c-.78.78-.78 2.05 0 2.83L4 21.41c.39.39.9.59 1.41.59.51 0 1.02-.2 1.41-.59l7.78-7.78 2.81-2.81c.8-.78.8-2.07 0-2.86zM5.41 20L4 18.59l7.72-7.72 1.47 1.35L5.41 20z\"/>\n",
              "  </svg>\n",
              "      </button>\n",
              "      \n",
              "  <style>\n",
              "    .colab-df-container {\n",
              "      display:flex;\n",
              "      flex-wrap:wrap;\n",
              "      gap: 12px;\n",
              "    }\n",
              "\n",
              "    .colab-df-convert {\n",
              "      background-color: #E8F0FE;\n",
              "      border: none;\n",
              "      border-radius: 50%;\n",
              "      cursor: pointer;\n",
              "      display: none;\n",
              "      fill: #1967D2;\n",
              "      height: 32px;\n",
              "      padding: 0 0 0 0;\n",
              "      width: 32px;\n",
              "    }\n",
              "\n",
              "    .colab-df-convert:hover {\n",
              "      background-color: #E2EBFA;\n",
              "      box-shadow: 0px 1px 2px rgba(60, 64, 67, 0.3), 0px 1px 3px 1px rgba(60, 64, 67, 0.15);\n",
              "      fill: #174EA6;\n",
              "    }\n",
              "\n",
              "    [theme=dark] .colab-df-convert {\n",
              "      background-color: #3B4455;\n",
              "      fill: #D2E3FC;\n",
              "    }\n",
              "\n",
              "    [theme=dark] .colab-df-convert:hover {\n",
              "      background-color: #434B5C;\n",
              "      box-shadow: 0px 1px 3px 1px rgba(0, 0, 0, 0.15);\n",
              "      filter: drop-shadow(0px 1px 2px rgba(0, 0, 0, 0.3));\n",
              "      fill: #FFFFFF;\n",
              "    }\n",
              "  </style>\n",
              "\n",
              "      <script>\n",
              "        const buttonEl =\n",
              "          document.querySelector('#df-640c9db2-3262-4278-aeb4-3b7f1bf19d59 button.colab-df-convert');\n",
              "        buttonEl.style.display =\n",
              "          google.colab.kernel.accessAllowed ? 'block' : 'none';\n",
              "\n",
              "        async function convertToInteractive(key) {\n",
              "          const element = document.querySelector('#df-640c9db2-3262-4278-aeb4-3b7f1bf19d59');\n",
              "          const dataTable =\n",
              "            await google.colab.kernel.invokeFunction('convertToInteractive',\n",
              "                                                     [key], {});\n",
              "          if (!dataTable) return;\n",
              "\n",
              "          const docLinkHtml = 'Like what you see? Visit the ' +\n",
              "            '<a target=\"_blank\" href=https://colab.research.google.com/notebooks/data_table.ipynb>data table notebook</a>'\n",
              "            + ' to learn more about interactive tables.';\n",
              "          element.innerHTML = '';\n",
              "          dataTable['output_type'] = 'display_data';\n",
              "          await google.colab.output.renderOutput(dataTable, element);\n",
              "          const docLink = document.createElement('div');\n",
              "          docLink.innerHTML = docLinkHtml;\n",
              "          element.appendChild(docLink);\n",
              "        }\n",
              "      </script>\n",
              "    </div>\n",
              "  </div>\n",
              "  "
            ]
          },
          "metadata": {},
          "execution_count": 19
        }
      ]
    },
    {
      "cell_type": "code",
      "source": [
        "from pyspark.ml.feature import VectorAssembler\n",
        "assemble=VectorAssembler(inputCols=['teamLevel',\n",
        " 'hit_accuracy',\n",
        " 'revenue'], outputCol='features')\n",
        "assembled_data=assemble.transform(cleanData)\n",
        "assembled_data.show()"
      ],
      "metadata": {
        "colab": {
          "base_uri": "https://localhost:8080/"
        },
        "id": "Noua73el-aew",
        "outputId": "6782e139-b068-4110-aec0-f33caa8f893d"
      },
      "execution_count": null,
      "outputs": [
        {
          "output_type": "stream",
          "name": "stdout",
          "text": [
            "+------+---------+----------------+----------+-----------+---------+--------------------+-------+--------------------+\n",
            "|userId|teamLevel|count_gameclicks|count_hits|count_buyId|avg_price|        hit_accuracy|revenue|            features|\n",
            "+------+---------+----------------+----------+-----------+---------+--------------------+-------+--------------------+\n",
            "|   937|        1|              39|         0|          1|      1.0|                 0.0|    1.0|       [1.0,0.0,1.0]|\n",
            "|  1623|        1|             129|         9|          1|     10.0| 0.06976744186046512|   10.0|[1.0,0.0697674418...|\n",
            "|    83|        1|             102|        14|          1|      5.0| 0.13725490196078433|    5.0|[1.0,0.1372549019...|\n",
            "|   121|        1|              39|         4|          1|      3.0| 0.10256410256410256|    3.0|[1.0,0.1025641025...|\n",
            "|   462|        1|              90|        10|          1|      3.0|  0.1111111111111111|    3.0|[1.0,0.1111111111...|\n",
            "|   819|        1|              51|         8|          1|     20.0|  0.1568627450980392|   20.0|[1.0,0.1568627450...|\n",
            "|  2199|        1|              51|         6|          2|      2.5| 0.11764705882352941|    5.0|[1.0,0.1176470588...|\n",
            "|  1143|        1|              47|         5|          2|      2.0| 0.10638297872340426|    4.0|[1.0,0.1063829787...|\n",
            "|  1652|        1|              46|         7|          1|      1.0| 0.15217391304347827|    1.0|[1.0,0.1521739130...|\n",
            "|  2222|        1|              41|         6|          1|     20.0| 0.14634146341463414|   20.0|[1.0,0.1463414634...|\n",
            "|   374|        1|              47|         7|          1|      3.0| 0.14893617021276595|    3.0|[1.0,0.1489361702...|\n",
            "|  1535|        1|              76|         7|          1|     20.0| 0.09210526315789473|   20.0|[1.0,0.0921052631...|\n",
            "|    21|        1|              52|         2|          1|      3.0|0.038461538461538464|    3.0|[1.0,0.0384615384...|\n",
            "|  2379|        1|              62|         9|          1|      3.0| 0.14516129032258066|    3.0|[1.0,0.1451612903...|\n",
            "|  1807|        1|             177|        25|          2|      7.5| 0.14124293785310735|   15.0|[1.0,0.1412429378...|\n",
            "|   868|        1|              54|         5|          1|     10.0| 0.09259259259259259|   10.0|[1.0,0.0925925925...|\n",
            "|  1567|        1|              27|         4|          2|      4.0| 0.14814814814814814|    8.0|[1.0,0.1481481481...|\n",
            "|   221|        1|              37|         2|          1|     20.0| 0.05405405405405406|   20.0|[1.0,0.0540540540...|\n",
            "|  2306|        1|              67|         5|          1|      1.0| 0.07462686567164178|    1.0|[1.0,0.0746268656...|\n",
            "|  1065|        1|              37|         5|          2|     11.5| 0.13513513513513514|   23.0|[1.0,0.1351351351...|\n",
            "+------+---------+----------------+----------+-----------+---------+--------------------+-------+--------------------+\n",
            "only showing top 20 rows\n",
            "\n"
          ]
        }
      ]
    },
    {
      "cell_type": "code",
      "source": [
        "from pyspark.ml.feature import StandardScaler\n",
        "scale=StandardScaler(inputCol='features',outputCol='standardized', withStd=True, withMean=False)\n",
        "data_scale=scale.fit(assembled_data)\n",
        "data_scale_output=data_scale.transform(assembled_data)\n",
        "data_scale_output.show()"
      ],
      "metadata": {
        "colab": {
          "base_uri": "https://localhost:8080/"
        },
        "id": "DClqThjbBWsS",
        "outputId": "84f9f918-5092-4165-971d-193baf084e85"
      },
      "execution_count": null,
      "outputs": [
        {
          "output_type": "stream",
          "name": "stdout",
          "text": [
            "+------+---------+----------------+----------+-----------+---------+--------------------+-------+--------------------+--------------------+\n",
            "|userId|teamLevel|count_gameclicks|count_hits|count_buyId|avg_price|        hit_accuracy|revenue|            features|        standardized|\n",
            "+------+---------+----------------+----------+-----------+---------+--------------------+-------+--------------------+--------------------+\n",
            "|   937|        1|              39|         0|          1|      1.0|                 0.0|    1.0|       [1.0,0.0,1.0]|[0.55820147530917...|\n",
            "|  1623|        1|             129|         9|          1|     10.0| 0.06976744186046512|   10.0|[1.0,0.0697674418...|[0.55820147530917...|\n",
            "|    83|        1|             102|        14|          1|      5.0| 0.13725490196078433|    5.0|[1.0,0.1372549019...|[0.55820147530917...|\n",
            "|   121|        1|              39|         4|          1|      3.0| 0.10256410256410256|    3.0|[1.0,0.1025641025...|[0.55820147530917...|\n",
            "|   462|        1|              90|        10|          1|      3.0|  0.1111111111111111|    3.0|[1.0,0.1111111111...|[0.55820147530917...|\n",
            "|   819|        1|              51|         8|          1|     20.0|  0.1568627450980392|   20.0|[1.0,0.1568627450...|[0.55820147530917...|\n",
            "|  2199|        1|              51|         6|          2|      2.5| 0.11764705882352941|    5.0|[1.0,0.1176470588...|[0.55820147530917...|\n",
            "|  1143|        1|              47|         5|          2|      2.0| 0.10638297872340426|    4.0|[1.0,0.1063829787...|[0.55820147530917...|\n",
            "|  1652|        1|              46|         7|          1|      1.0| 0.15217391304347827|    1.0|[1.0,0.1521739130...|[0.55820147530917...|\n",
            "|  2222|        1|              41|         6|          1|     20.0| 0.14634146341463414|   20.0|[1.0,0.1463414634...|[0.55820147530917...|\n",
            "|   374|        1|              47|         7|          1|      3.0| 0.14893617021276595|    3.0|[1.0,0.1489361702...|[0.55820147530917...|\n",
            "|  1535|        1|              76|         7|          1|     20.0| 0.09210526315789473|   20.0|[1.0,0.0921052631...|[0.55820147530917...|\n",
            "|    21|        1|              52|         2|          1|      3.0|0.038461538461538464|    3.0|[1.0,0.0384615384...|[0.55820147530917...|\n",
            "|  2379|        1|              62|         9|          1|      3.0| 0.14516129032258066|    3.0|[1.0,0.1451612903...|[0.55820147530917...|\n",
            "|  1807|        1|             177|        25|          2|      7.5| 0.14124293785310735|   15.0|[1.0,0.1412429378...|[0.55820147530917...|\n",
            "|   868|        1|              54|         5|          1|     10.0| 0.09259259259259259|   10.0|[1.0,0.0925925925...|[0.55820147530917...|\n",
            "|  1567|        1|              27|         4|          2|      4.0| 0.14814814814814814|    8.0|[1.0,0.1481481481...|[0.55820147530917...|\n",
            "|   221|        1|              37|         2|          1|     20.0| 0.05405405405405406|   20.0|[1.0,0.0540540540...|[0.55820147530917...|\n",
            "|  2306|        1|              67|         5|          1|      1.0| 0.07462686567164178|    1.0|[1.0,0.0746268656...|[0.55820147530917...|\n",
            "|  1065|        1|              37|         5|          2|     11.5| 0.13513513513513514|   23.0|[1.0,0.1351351351...|[0.55820147530917...|\n",
            "+------+---------+----------------+----------+-----------+---------+--------------------+-------+--------------------+--------------------+\n",
            "only showing top 20 rows\n",
            "\n"
          ]
        }
      ]
    },
    {
      "cell_type": "code",
      "source": [
        "data_scale_output.select('standardized').show(5, False)"
      ],
      "metadata": {
        "colab": {
          "base_uri": "https://localhost:8080/"
        },
        "id": "9oa0lPB-iosi",
        "outputId": "605ac562-d3da-45a0-de93-141ce60211fe"
      },
      "execution_count": null,
      "outputs": [
        {
          "output_type": "stream",
          "name": "stdout",
          "text": [
            "+-----------------------------------------------------------+\n",
            "|standardized                                               |\n",
            "+-----------------------------------------------------------+\n",
            "|[0.5582014753091764,0.0,0.07791326693814196]               |\n",
            "|[0.5582014753091764,1.9286267633957108,0.7791326693814196] |\n",
            "|[0.5582014753091764,3.7942265083797975,0.3895663346907098] |\n",
            "|[0.5582014753091764,2.8352461820860024,0.23373980081442589]|\n",
            "|[0.5582014753091764,3.0715166972598356,0.23373980081442589]|\n",
            "+-----------------------------------------------------------+\n",
            "only showing top 5 rows\n",
            "\n"
          ]
        }
      ]
    },
    {
      "cell_type": "markdown",
      "source": [
        "#Calculating Silhouette Score"
      ],
      "metadata": {
        "id": "6a2N0Zc55Su_"
      }
    },
    {
      "cell_type": "code",
      "source": [
        "from pyspark.ml.clustering import KMeans\n",
        "from pyspark.ml.evaluation import ClusteringEvaluator\n",
        "silhouette_score=[]\n",
        "evaluator = ClusteringEvaluator(predictionCol='prediction', featuresCol='standardized', \\\n",
        "                                metricName='silhouette', distanceMeasure='squaredEuclidean')\n",
        "for i in range(2,10):\n",
        "    KMeans_algo=KMeans(featuresCol='standardized', k=i)\n",
        "    KMeans_fit=KMeans_algo.fit(data_scale_output)\n",
        "    output=KMeans_fit.transform(data_scale_output)\n",
        "    score=evaluator.evaluate(output)\n",
        "    silhouette_score.append(score)\n",
        "    print(\"Silhouette Score:\",score)"
      ],
      "metadata": {
        "colab": {
          "base_uri": "https://localhost:8080/"
        },
        "id": "4bYYIdQaBnRH",
        "outputId": "22d3eff4-2b1c-42bc-dc8d-f210f0c36597"
      },
      "execution_count": null,
      "outputs": [
        {
          "output_type": "stream",
          "name": "stdout",
          "text": [
            "Silhouette Score: 0.38681153704164695\n",
            "Silhouette Score: 0.43118028264656116\n",
            "Silhouette Score: 0.4407983628499702\n",
            "Silhouette Score: 0.4210910025646647\n",
            "Silhouette Score: 0.35316313652821457\n",
            "Silhouette Score: 0.4024847697290582\n",
            "Silhouette Score: 0.39769914285784336\n",
            "Silhouette Score: 0.41237433470918194\n"
          ]
        }
      ]
    },
    {
      "cell_type": "markdown",
      "source": [
        "#Visualize Sihouette Scores in a plot"
      ],
      "metadata": {
        "id": "dhwfhf-d5f6W"
      }
    },
    {
      "cell_type": "code",
      "source": [
        "#Visualizing the silhouette scores in a plot\n",
        "#Visualizing the silhouette scores in a plot\n",
        "import matplotlib.pyplot as plt\n",
        "fig, ax = plt.subplots(1,1, figsize =(8,6))\n",
        "ax.plot(range(2,10),silhouette_score)\n",
        "ax.set_xlabel('k')\n",
        "ax.set_ylabel('revenue')\n",
        "\n"
      ],
      "metadata": {
        "colab": {
          "base_uri": "https://localhost:8080/",
          "height": 406
        },
        "id": "lKqxuHyTDEeJ",
        "outputId": "237cbca2-e53a-487b-bc4b-ca9d8fbcd235"
      },
      "execution_count": null,
      "outputs": [
        {
          "output_type": "execute_result",
          "data": {
            "text/plain": [
              "Text(0, 0.5, 'revenue')"
            ]
          },
          "metadata": {},
          "execution_count": 24
        },
        {
          "output_type": "display_data",
          "data": {
            "text/plain": [
              "<Figure size 576x432 with 1 Axes>"
            ],
            "image/png": "[encoded data removed]"
          },
          "metadata": {
            "needs_background": "light"
          }
        }
      ]
    },
    {
      "cell_type": "markdown",
      "source": [
        "#Clustering using Kmeans"
      ],
      "metadata": {
        "id": "NDiGCnlK550Y"
      }
    },
    {
      "cell_type": "code",
      "source": [
        "final_clustering=KMeans(featuresCol='standardized', k=20)\n",
        "KMeans_fit=final_clustering.fit(data_scale_output)\n",
        "clusters_output=KMeans_fit.transform(data_scale_output)"
      ],
      "metadata": {
        "id": "yuWFznyFDiT-"
      },
      "execution_count": null,
      "outputs": []
    },
    {
      "cell_type": "code",
      "source": [
        "KMeans_fit.clusterCenters()\n",
        "#print('cluster centers')\n",
        "#for center in center:\n",
        " # print(center)"
      ],
      "metadata": {
        "colab": {
          "base_uri": "https://localhost:8080/"
        },
        "id": "joe5M8vMih-e",
        "outputId": "6f16406a-cd45-4ce0-c4c4-c57b75e2fc5f"
      },
      "execution_count": null,
      "outputs": [
        {
          "output_type": "execute_result",
          "data": {
            "text/plain": [
              "[array([3.49253085, 4.16176045, 1.72461016]),\n",
              " array([2.52478821, 3.29501065, 1.71767588]),\n",
              " array([1.98471636, 2.13157028, 0.33543826]),\n",
              " array([1.25953153, 3.81826145, 2.01375828]),\n",
              " array([2.39969088, 4.12231647, 0.35101935]),\n",
              " array([3.60180282, 3.26185465, 0.38389042]),\n",
              " array([3.50869499, 4.36918647, 5.69879895]),\n",
              " array([3.57248944, 7.34912795, 0.99736773]),\n",
              " array([3.21896184, 3.15217483, 3.5335095 ]),\n",
              " array([2.56514551, 3.01052506, 0.38778289]),\n",
              " array([3.69330565, 3.02494053, 1.60737204]),\n",
              " array([0.89046426, 1.69345188, 0.333914  ]),\n",
              " array([3.45915763, 2.08727947, 0.38779558]),\n",
              " array([1.92833237, 5.56228715, 0.92791159]),\n",
              " array([0.82884461, 4.25408873, 0.29512601]),\n",
              " array([3.65156798, 4.46144678, 0.45204304]),\n",
              " array([1.26525668, 2.34393225, 1.82142173]),\n",
              " array([1.23189291, 3.13996182, 0.29016647]),\n",
              " array([3.41619303, 4.69419811, 3.16969869]),\n",
              " array([2.9223489 , 2.15706509, 1.94176666])]"
            ]
          },
          "metadata": {},
          "execution_count": 50
        }
      ]
    },
    {
      "cell_type": "code",
      "source": [
        "transformed = KMeans_fit.transform(data_scale_output).select('userId', 'prediction')\n",
        "rows = transformed.collect()\n",
        "print(rows[:3])"
      ],
      "metadata": {
        "colab": {
          "base_uri": "https://localhost:8080/"
        },
        "id": "R1MtLBvq5uZl",
        "outputId": "56b05352-bfc2-4842-f6db-86af9472d606"
      },
      "execution_count": null,
      "outputs": [
        {
          "output_type": "stream",
          "name": "stdout",
          "text": [
            "[Row(userId=937, prediction=2), Row(userId=1623, prediction=2), Row(userId=83, prediction=2)]\n"
          ]
        }
      ]
    },
    {
      "cell_type": "code",
      "source": [
        "df_pred = spark.createDataFrame(rows)\n",
        "df_pred.show()"
      ],
      "metadata": {
        "colab": {
          "base_uri": "https://localhost:8080/"
        },
        "id": "0vON3QtJ6RzH",
        "outputId": "c7b9dbfe-d729-4269-fa98-5492169f76db"
      },
      "execution_count": null,
      "outputs": [
        {
          "output_type": "stream",
          "name": "stdout",
          "text": [
            "+------+----------+\n",
            "|userId|prediction|\n",
            "+------+----------+\n",
            "|   937|         2|\n",
            "|  1623|         2|\n",
            "|    83|         2|\n",
            "|   121|         2|\n",
            "|   462|         2|\n",
            "|   819|         2|\n",
            "|  2199|         2|\n",
            "|  1143|         2|\n",
            "|  1652|         2|\n",
            "|  2222|         2|\n",
            "|   374|         2|\n",
            "|  1535|         2|\n",
            "|    21|         2|\n",
            "|  2379|         2|\n",
            "|  1807|         2|\n",
            "|   868|         2|\n",
            "|  1567|         2|\n",
            "|   221|         2|\n",
            "|  2306|         2|\n",
            "|  1065|         2|\n",
            "+------+----------+\n",
            "only showing top 20 rows\n",
            "\n"
          ]
        }
      ]
    },
    {
      "cell_type": "code",
      "source": [
        "df_pred = df_pred.join(data_scale_output, 'userId')\n",
        "df_pred.show()"
      ],
      "metadata": {
        "colab": {
          "base_uri": "https://localhost:8080/"
        },
        "id": "uZd1Lkj69rDP",
        "outputId": "6da4eee2-d5e1-4ef6-9dfe-37d1033b21ec"
      },
      "execution_count": null,
      "outputs": [
        {
          "output_type": "stream",
          "name": "stdout",
          "text": [
            "+------+----------+---------+----------------+----------+-----------+---------+-------------------+-------+--------------------+--------------------+\n",
            "|userId|prediction|teamLevel|count_gameclicks|count_hits|count_buyId|avg_price|       hit_accuracy|revenue|            features|        standardized|\n",
            "+------+----------+---------+----------------+----------+-----------+---------+-------------------+-------+--------------------+--------------------+\n",
            "|   937|         2|        1|              39|         0|          1|      1.0|                0.0|    1.0|       [1.0,0.0,1.0]|[0.55820147530917...|\n",
            "|  1623|         2|        7|             102|        22|          1|     10.0|0.21568627450980393|   10.0|[7.0,0.2156862745...|[3.90741032716423...|\n",
            "|  1623|         2|        6|              93|        11|          6|      9.0|0.11827956989247312|   54.0|[6.0,0.1182795698...|[3.34920885185505...|\n",
            "|  1623|         2|        4|              82|         6|          2|     15.0|0.07317073170731707|   30.0|[4.0,0.0731707317...|[2.23280590123670...|\n",
            "|  1623|         2|        1|             129|         9|          1|     10.0|0.06976744186046512|   10.0|[1.0,0.0697674418...|[0.55820147530917...|\n",
            "|    83|         2|        6|             133|        15|          2|      3.0|0.11278195488721804|    6.0|[6.0,0.1127819548...|[3.34920885185505...|\n",
            "|    83|         2|        5|             146|        17|          3|     2.67|0.11643835616438356|   8.01|[5.0,0.1164383561...|[2.79100737654588...|\n",
            "|    83|         2|        4|             103|        13|          2|      4.0| 0.1262135922330097|    8.0|[4.0,0.1262135922...|[2.23280590123670...|\n",
            "|    83|         2|        2|             107|        11|          1|      3.0|  0.102803738317757|    3.0|[2.0,0.1028037383...|[1.11640295061835...|\n",
            "|    83|         2|        1|             102|        14|          1|      5.0|0.13725490196078433|    5.0|[1.0,0.1372549019...|[0.55820147530917...|\n",
            "|   121|         2|        7|              72|         8|          2|      3.0| 0.1111111111111111|    6.0|[7.0,0.1111111111...|[3.90741032716423...|\n",
            "|   121|         2|        6|              64|         7|          2|      3.0|           0.109375|    6.0|  [6.0,0.109375,6.0]|[3.34920885185505...|\n",
            "|   121|         2|        5|              50|         5|          2|      2.0|                0.1|    4.0|       [5.0,0.1,4.0]|[2.79100737654588...|\n",
            "|   121|         2|        4|              71|         6|          1|      3.0|0.08450704225352113|    3.0|[4.0,0.0845070422...|[2.23280590123670...|\n",
            "|   121|         2|        1|              39|         4|          1|      3.0|0.10256410256410256|    3.0|[1.0,0.1025641025...|[0.55820147530917...|\n",
            "|   462|         2|        7|             170|        17|          4|      2.5|                0.1|   10.0|      [7.0,0.1,10.0]|[3.90741032716423...|\n",
            "|   462|         2|        4|             118|        11|          1|      3.0|0.09322033898305085|    3.0|[4.0,0.0932203389...|[2.23280590123670...|\n",
            "|   462|         2|        3|             148|        18|          1|      5.0|0.12162162162162163|    5.0|[3.0,0.1216216216...|[1.67460442592752...|\n",
            "|   462|         2|        1|              90|        10|          1|      3.0| 0.1111111111111111|    3.0|[1.0,0.1111111111...|[0.55820147530917...|\n",
            "|   819|         2|        7|              87|        15|          1|     20.0| 0.1724137931034483|   20.0|[7.0,0.1724137931...|[3.90741032716423...|\n",
            "+------+----------+---------+----------------+----------+-----------+---------+-------------------+-------+--------------------+--------------------+\n",
            "only showing top 20 rows\n",
            "\n"
          ]
        }
      ]
    },
    {
      "cell_type": "code",
      "source": [
        "pddf_pred = df_pred.toPandas().set_index('userId')\n",
        "pddf_pred.head()"
      ],
      "metadata": {
        "colab": {
          "base_uri": "https://localhost:8080/",
          "height": 475
        },
        "id": "DfvzG8869351",
        "outputId": "62f9e51d-5df5-47d7-877b-3ed13be932ae"
      },
      "execution_count": null,
      "outputs": [
        {
          "output_type": "execute_result",
          "data": {
            "text/plain": [
              "        prediction  teamLevel  count_gameclicks  count_hits  count_buyId  \\\n",
              "userId                                                                     \n",
              "937              2          1                39           0            1   \n",
              "1623             2          7               102          22            1   \n",
              "1623             2          6                93          11            6   \n",
              "1623             2          4                82           6            2   \n",
              "1623             2          1               129           9            1   \n",
              "\n",
              "        avg_price  hit_accuracy  revenue                          features  \\\n",
              "userId                                                                       \n",
              "937           1.0      0.000000      1.0                   [1.0, 0.0, 1.0]   \n",
              "1623         10.0      0.215686     10.0  [7.0, 0.21568627450980393, 10.0]   \n",
              "1623          9.0      0.118280     54.0  [6.0, 0.11827956989247312, 54.0]   \n",
              "1623         15.0      0.073171     30.0  [4.0, 0.07317073170731707, 30.0]   \n",
              "1623         10.0      0.069767     10.0  [1.0, 0.06976744186046512, 10.0]   \n",
              "\n",
              "                                             standardized  \n",
              "userId                                                     \n",
              "937        [0.5582014753091764, 0.0, 0.07791326693814196]  \n",
              "1623    [3.907410327164235, 5.962355941739681, 0.77913...  \n",
              "1623    [3.3492088518550585, 3.2696790648249867, 4.207...  \n",
              "1623    [2.2328059012367056, 2.022706117707697, 2.3373...  \n",
              "1623    [0.5582014753091764, 1.9286267633957108, 0.779...  "
            ],
            "text/html": [
              "\n",
              "  <div id=\"df-7fa8dc12-51fe-4ed5-84de-5543f28bf05b\">\n",
              "    <div class=\"colab-df-container\">\n",
              "      <div>\n",
              "<style scoped>\n",
              "    .dataframe tbody tr th:only-of-type {\n",
              "        vertical-align: middle;\n",
              "    }\n",
              "\n",
              "    .dataframe tbody tr th {\n",
              "        vertical-align: top;\n",
              "    }\n",
              "\n",
              "    .dataframe thead th {\n",
              "        text-align: right;\n",
              "    }\n",
              "</style>\n",
              "<table border=\"1\" class=\"dataframe\">\n",
              "  <thead>\n",
              "    <tr style=\"text-align: right;\">\n",
              "      <th></th>\n",
              "      <th>prediction</th>\n",
              "      <th>teamLevel</th>\n",
              "      <th>count_gameclicks</th>\n",
              "      <th>count_hits</th>\n",
              "      <th>count_buyId</th>\n",
              "      <th>avg_price</th>\n",
              "      <th>hit_accuracy</th>\n",
              "      <th>revenue</th>\n",
              "      <th>features</th>\n",
              "      <th>standardized</th>\n",
              "    </tr>\n",
              "    <tr>\n",
              "      <th>userId</th>\n",
              "      <th></th>\n",
              "      <th></th>\n",
              "      <th></th>\n",
              "      <th></th>\n",
              "      <th></th>\n",
              "      <th></th>\n",
              "      <th></th>\n",
              "      <th></th>\n",
              "      <th></th>\n",
              "      <th></th>\n",
              "    </tr>\n",
              "  </thead>\n",
              "  <tbody>\n",
              "    <tr>\n",
              "      <th>937</th>\n",
              "      <td>2</td>\n",
              "      <td>1</td>\n",
              "      <td>39</td>\n",
              "      <td>0</td>\n",
              "      <td>1</td>\n",
              "      <td>1.0</td>\n",
              "      <td>0.000000</td>\n",
              "      <td>1.0</td>\n",
              "      <td>[1.0, 0.0, 1.0]</td>\n",
              "      <td>[0.5582014753091764, 0.0, 0.07791326693814196]</td>\n",
              "    </tr>\n",
              "    <tr>\n",
              "      <th>1623</th>\n",
              "      <td>2</td>\n",
              "      <td>7</td>\n",
              "      <td>102</td>\n",
              "      <td>22</td>\n",
              "      <td>1</td>\n",
              "      <td>10.0</td>\n",
              "      <td>0.215686</td>\n",
              "      <td>10.0</td>\n",
              "      <td>[7.0, 0.21568627450980393, 10.0]</td>\n",
              "      <td>[3.907410327164235, 5.962355941739681, 0.77913...</td>\n",
              "    </tr>\n",
              "    <tr>\n",
              "      <th>1623</th>\n",
              "      <td>2</td>\n",
              "      <td>6</td>\n",
              "      <td>93</td>\n",
              "      <td>11</td>\n",
              "      <td>6</td>\n",
              "      <td>9.0</td>\n",
              "      <td>0.118280</td>\n",
              "      <td>54.0</td>\n",
              "      <td>[6.0, 0.11827956989247312, 54.0]</td>\n",
              "      <td>[3.3492088518550585, 3.2696790648249867, 4.207...</td>\n",
              "    </tr>\n",
              "    <tr>\n",
              "      <th>1623</th>\n",
              "      <td>2</td>\n",
              "      <td>4</td>\n",
              "      <td>82</td>\n",
              "      <td>6</td>\n",
              "      <td>2</td>\n",
              "      <td>15.0</td>\n",
              "      <td>0.073171</td>\n",
              "      <td>30.0</td>\n",
              "      <td>[4.0, 0.07317073170731707, 30.0]</td>\n",
              "      <td>[2.2328059012367056, 2.022706117707697, 2.3373...</td>\n",
              "    </tr>\n",
              "    <tr>\n",
              "      <th>1623</th>\n",
              "      <td>2</td>\n",
              "      <td>1</td>\n",
              "      <td>129</td>\n",
              "      <td>9</td>\n",
              "      <td>1</td>\n",
              "      <td>10.0</td>\n",
              "      <td>0.069767</td>\n",
              "      <td>10.0</td>\n",
              "      <td>[1.0, 0.06976744186046512, 10.0]</td>\n",
              "      <td>[0.5582014753091764, 1.9286267633957108, 0.779...</td>\n",
              "    </tr>\n",
              "  </tbody>\n",
              "</table>\n",
              "</div>\n",
              "      <button class=\"colab-df-convert\" onclick=\"convertToInteractive('df-7fa8dc12-51fe-4ed5-84de-5543f28bf05b')\"\n",
              "              title=\"Convert this dataframe to an interactive table.\"\n",
              "              style=\"display:none;\">\n",
              "        \n",
              "  <svg xmlns=\"http://www.w3.org/2000/svg\" height=\"24px\"viewBox=\"0 0 24 24\"\n",
              "       width=\"24px\">\n",
              "    <path d=\"M0 0h24v24H0V0z\" fill=\"none\"/>\n",
              "    <path d=\"M18.56 5.44l.94 2.06.94-2.06 2.06-.94-2.06-.94-.94-2.06-.94 2.06-2.06.94zm-11 1L8.5 8.5l.94-2.06 2.06-.94-2.06-.94L8.5 2.5l-.94 2.06-2.06.94zm10 10l.94 2.06.94-2.06 2.06-.94-2.06-.94-.94-2.06-.94 2.06-2.06.94z\"/><path d=\"M17.41 7.96l-1.37-1.37c-.4-.4-.92-.59-1.43-.59-.52 0-1.04.2-1.43.59L10.3 9.45l-7.72 7.72c-.78.78-.78 2.05 0 2.83L4 21.41c.39.39.9.59 1.41.59.51 0 1.02-.2 1.41-.59l7.78-7.78 2.81-2.81c.8-.78.8-2.07 0-2.86zM5.41 20L4 18.59l7.72-7.72 1.47 1.35L5.41 20z\"/>\n",
              "  </svg>\n",
              "      </button>\n",
              "      \n",
              "  <style>\n",
              "    .colab-df-container {\n",
              "      display:flex;\n",
              "      flex-wrap:wrap;\n",
              "      gap: 12px;\n",
              "    }\n",
              "\n",
              "    .colab-df-convert {\n",
              "      background-color: #E8F0FE;\n",
              "      border: none;\n",
              "      border-radius: 50%;\n",
              "      cursor: pointer;\n",
              "      display: none;\n",
              "      fill: #1967D2;\n",
              "      height: 32px;\n",
              "      padding: 0 0 0 0;\n",
              "      width: 32px;\n",
              "    }\n",
              "\n",
              "    .colab-df-convert:hover {\n",
              "      background-color: #E2EBFA;\n",
              "      box-shadow: 0px 1px 2px rgba(60, 64, 67, 0.3), 0px 1px 3px 1px rgba(60, 64, 67, 0.15);\n",
              "      fill: #174EA6;\n",
              "    }\n",
              "\n",
              "    [theme=dark] .colab-df-convert {\n",
              "      background-color: #3B4455;\n",
              "      fill: #D2E3FC;\n",
              "    }\n",
              "\n",
              "    [theme=dark] .colab-df-convert:hover {\n",
              "      background-color: #434B5C;\n",
              "      box-shadow: 0px 1px 3px 1px rgba(0, 0, 0, 0.15);\n",
              "      filter: drop-shadow(0px 1px 2px rgba(0, 0, 0, 0.3));\n",
              "      fill: #FFFFFF;\n",
              "    }\n",
              "  </style>\n",
              "\n",
              "      <script>\n",
              "        const buttonEl =\n",
              "          document.querySelector('#df-7fa8dc12-51fe-4ed5-84de-5543f28bf05b button.colab-df-convert');\n",
              "        buttonEl.style.display =\n",
              "          google.colab.kernel.accessAllowed ? 'block' : 'none';\n",
              "\n",
              "        async function convertToInteractive(key) {\n",
              "          const element = document.querySelector('#df-7fa8dc12-51fe-4ed5-84de-5543f28bf05b');\n",
              "          const dataTable =\n",
              "            await google.colab.kernel.invokeFunction('convertToInteractive',\n",
              "                                                     [key], {});\n",
              "          if (!dataTable) return;\n",
              "\n",
              "          const docLinkHtml = 'Like what you see? Visit the ' +\n",
              "            '<a target=\"_blank\" href=https://colab.research.google.com/notebooks/data_table.ipynb>data table notebook</a>'\n",
              "            + ' to learn more about interactive tables.';\n",
              "          element.innerHTML = '';\n",
              "          dataTable['output_type'] = 'display_data';\n",
              "          await google.colab.output.renderOutput(dataTable, element);\n",
              "          const docLink = document.createElement('div');\n",
              "          docLink.innerHTML = docLinkHtml;\n",
              "          element.appendChild(docLink);\n",
              "        }\n",
              "      </script>\n",
              "    </div>\n",
              "  </div>\n",
              "  "
            ]
          },
          "metadata": {},
          "execution_count": 30
        }
      ]
    },
    {
      "cell_type": "code",
      "source": [
        "threedee = plt.figure(figsize=(12,10)).gca(projection='3d')\n",
        "threedee.scatter(pddf_pred.teamLevel, pddf_pred.hit_accuracy, pddf_pred.revenue, c=pddf_pred.prediction)\n",
        "threedee.set_xlabel('teamLevel')\n",
        "threedee.set_ylabel('hit_accuracy')\n",
        "threedee.set_zlabel('revenue')\n",
        "plt.show()"
      ],
      "metadata": {
        "colab": {
          "base_uri": "https://localhost:8080/",
          "height": 575
        },
        "id": "SX6N67ne-Civ",
        "outputId": "2610f724-1d5e-4a37-aedc-4af02edc5eab"
      },
      "execution_count": null,
      "outputs": [
        {
          "output_type": "display_data",
          "data": {
            "text/plain": [
              "<Figure size 864x720 with 1 Axes>"
            ],
            "image/png": "[encoded data removed]"
          },
          "metadata": {
            "needs_background": "light"
          }
        }
      ]
    },
    {
      "cell_type": "code",
      "source": [
        "from pyspark.ml.feature import PCA as PCAml\n",
        "pca = PCAml(k=2, inputCol=\"standardized\", outputCol=\"pca\")\n",
        "pca_model = pca.fit(data_scale_output)\n",
        "pca_transformed = pca_model.transform(data_scale_output)"
      ],
      "metadata": {
        "id": "SND2WQxb03xf"
      },
      "execution_count": null,
      "outputs": []
    },
    {
      "cell_type": "code",
      "source": [
        "import numpy as np\n",
        "x_pca = np.array(pca_transformed.rdd.map(lambda row: row.pca).collect())"
      ],
      "metadata": {
        "id": "KKhPAh7_1PMW"
      },
      "execution_count": null,
      "outputs": []
    },
    {
      "cell_type": "code",
      "source": [
        "cluster_assignment = np.array(clusters_output.rdd.map(lambda row: row.prediction).collect()).reshape(-1,1)"
      ],
      "metadata": {
        "id": "CEfpD3Gx1V0j"
      },
      "execution_count": null,
      "outputs": []
    },
    {
      "cell_type": "code",
      "source": [
        "import seaborn as sns\n",
        "import matplotlib.pyplot as plt\n",
        "\n",
        "pca_data = np.hstack((x_pca,cluster_assignment))\n",
        "\n",
        "pca_df = pd.DataFrame(data=pca_data, columns=(\"1st_principal\", \"2nd_principal\",\"cluster_assignment\"))\n",
        "sns.FacetGrid(pca_df,hue=\"cluster_assignment\", height=6).map(plt.scatter, '1st_principal', '2nd_principal' ).add_legend()\n",
        "\n",
        "plt.show()"
      ],
      "metadata": {
        "colab": {
          "base_uri": "https://localhost:8080/",
          "height": 441
        },
        "id": "apF_gM1Z1qkH",
        "outputId": "400e606f-f06c-4196-aa5f-c9fc6fda6922"
      },
      "execution_count": null,
      "outputs": [
        {
          "output_type": "display_data",
          "data": {
            "text/plain": [
              "<Figure size 537.375x432 with 1 Axes>"
            ],
            "image/png": "[encoded data removed]"
          },
          "metadata": {
            "needs_background": "light"
          }
        }
      ]
    },
    {
      "cell_type": "code",
      "source": [
        "#notice the last column [prediction]\n",
        "clusters_output.show(50)"
      ],
      "metadata": {
        "colab": {
          "base_uri": "https://localhost:8080/"
        },
        "id": "iI9aznLyDvoP",
        "outputId": "a028e7a8-98c3-48d3-fc89-ded7a6b3d15c"
      },
      "execution_count": null,
      "outputs": [
        {
          "output_type": "stream",
          "name": "stdout",
          "text": [
            "+------+---------+----------------+----------+-----------+---------+--------------------+-------+--------------------+--------------------+----------+\n",
            "|userId|teamLevel|count_gameclicks|count_hits|count_buyId|avg_price|        hit_accuracy|revenue|            features|        standardized|prediction|\n",
            "+------+---------+----------------+----------+-----------+---------+--------------------+-------+--------------------+--------------------+----------+\n",
            "|   937|        1|              39|         0|          1|      1.0|                 0.0|    1.0|       [1.0,0.0,1.0]|[0.55820147530917...|         2|\n",
            "|  1623|        1|             129|         9|          1|     10.0| 0.06976744186046512|   10.0|[1.0,0.0697674418...|[0.55820147530917...|         2|\n",
            "|    83|        1|             102|        14|          1|      5.0| 0.13725490196078433|    5.0|[1.0,0.1372549019...|[0.55820147530917...|         2|\n",
            "|   121|        1|              39|         4|          1|      3.0| 0.10256410256410256|    3.0|[1.0,0.1025641025...|[0.55820147530917...|         2|\n",
            "|   462|        1|              90|        10|          1|      3.0|  0.1111111111111111|    3.0|[1.0,0.1111111111...|[0.55820147530917...|         2|\n",
            "|   819|        1|              51|         8|          1|     20.0|  0.1568627450980392|   20.0|[1.0,0.1568627450...|[0.55820147530917...|         2|\n",
            "|  2199|        1|              51|         6|          2|      2.5| 0.11764705882352941|    5.0|[1.0,0.1176470588...|[0.55820147530917...|         2|\n",
            "|  1143|        1|              47|         5|          2|      2.0| 0.10638297872340426|    4.0|[1.0,0.1063829787...|[0.55820147530917...|         2|\n",
            "|  1652|        1|              46|         7|          1|      1.0| 0.15217391304347827|    1.0|[1.0,0.1521739130...|[0.55820147530917...|         2|\n",
            "|  2222|        1|              41|         6|          1|     20.0| 0.14634146341463414|   20.0|[1.0,0.1463414634...|[0.55820147530917...|         2|\n",
            "|   374|        1|              47|         7|          1|      3.0| 0.14893617021276595|    3.0|[1.0,0.1489361702...|[0.55820147530917...|         2|\n",
            "|  1535|        1|              76|         7|          1|     20.0| 0.09210526315789473|   20.0|[1.0,0.0921052631...|[0.55820147530917...|         2|\n",
            "|    21|        1|              52|         2|          1|      3.0|0.038461538461538464|    3.0|[1.0,0.0384615384...|[0.55820147530917...|         2|\n",
            "|  2379|        1|              62|         9|          1|      3.0| 0.14516129032258066|    3.0|[1.0,0.1451612903...|[0.55820147530917...|         2|\n",
            "|  1807|        1|             177|        25|          2|      7.5| 0.14124293785310735|   15.0|[1.0,0.1412429378...|[0.55820147530917...|         2|\n",
            "|   868|        1|              54|         5|          1|     10.0| 0.09259259259259259|   10.0|[1.0,0.0925925925...|[0.55820147530917...|         2|\n",
            "|  1567|        1|              27|         4|          2|      4.0| 0.14814814814814814|    8.0|[1.0,0.1481481481...|[0.55820147530917...|         2|\n",
            "|   221|        1|              37|         2|          1|     20.0| 0.05405405405405406|   20.0|[1.0,0.0540540540...|[0.55820147530917...|         2|\n",
            "|  2306|        1|              67|         5|          1|      1.0| 0.07462686567164178|    1.0|[1.0,0.0746268656...|[0.55820147530917...|         2|\n",
            "|  1065|        1|              37|         5|          2|     11.5| 0.13513513513513514|   23.0|[1.0,0.1351351351...|[0.55820147530917...|         2|\n",
            "|   827|        1|              75|         5|          1|     20.0| 0.06666666666666667|   20.0|[1.0,0.0666666666...|[0.55820147530917...|         2|\n",
            "|  1304|        1|              71|         9|          2|     11.5|  0.1267605633802817|   23.0|[1.0,0.1267605633...|[0.55820147530917...|         2|\n",
            "|  1264|        1|              81|        12|          1|      5.0| 0.14814814814814814|    5.0|[1.0,0.1481481481...|[0.55820147530917...|         2|\n",
            "|  1026|        1|              52|        10|          1|     20.0| 0.19230769230769232|   20.0|[1.0,0.1923076923...|[0.55820147530917...|         2|\n",
            "|   649|        1|              51|         9|          1|      1.0| 0.17647058823529413|    1.0|[1.0,0.1764705882...|[0.55820147530917...|         2|\n",
            "|  1958|        1|              40|         3|          1|     20.0|               0.075|   20.0|    [1.0,0.075,20.0]|[0.55820147530917...|         2|\n",
            "|  1300|        1|              58|         1|          2|      3.0|0.017241379310344827|    6.0|[1.0,0.0172413793...|[0.55820147530917...|         2|\n",
            "|   178|        1|              54|         6|          1|     20.0|  0.1111111111111111|   20.0|[1.0,0.1111111111...|[0.55820147530917...|         2|\n",
            "|   670|        1|              38|         3|          2|     20.0| 0.07894736842105263|   40.0|[1.0,0.0789473684...|[0.55820147530917...|         2|\n",
            "|   208|        1|              32|         3|          1|     20.0|             0.09375|   20.0|  [1.0,0.09375,20.0]|[0.55820147530917...|         2|\n",
            "|   157|        1|              32|         2|          1|     10.0|              0.0625|   10.0|   [1.0,0.0625,10.0]|[0.55820147530917...|         2|\n",
            "|  2221|        1|             191|        18|          2|     11.5| 0.09424083769633508|   23.0|[1.0,0.0942408376...|[0.55820147530917...|         2|\n",
            "|   471|        1|              45|         6|          2|     15.0| 0.13333333333333333|   30.0|[1.0,0.1333333333...|[0.55820147530917...|         2|\n",
            "|  1234|        1|              46|         3|          1|     10.0| 0.06521739130434782|   10.0|[1.0,0.0652173913...|[0.55820147530917...|         2|\n",
            "|   371|        1|              53|         9|          1|      3.0| 0.16981132075471697|    3.0|[1.0,0.1698113207...|[0.55820147530917...|         2|\n",
            "|  2146|        1|              46|         7|          1|      2.0| 0.15217391304347827|    2.0|[1.0,0.1521739130...|[0.55820147530917...|         2|\n",
            "|   935|        1|              57|         2|          1|     10.0| 0.03508771929824561|   10.0|[1.0,0.0350877192...|[0.55820147530917...|         2|\n",
            "|   165|        1|              49|         3|          1|      5.0|0.061224489795918366|    5.0|[1.0,0.0612244897...|[0.55820147530917...|         2|\n",
            "|  1538|        1|              24|         3|          1|     20.0|               0.125|   20.0|    [1.0,0.125,20.0]|[0.55820147530917...|         2|\n",
            "|  1544|        1|              36|         6|          2|     20.0| 0.16666666666666666|   40.0|[1.0,0.1666666666...|[0.55820147530917...|         1|\n",
            "|  2218|        1|              80|         6|          1|      3.0|               0.075|    3.0|     [1.0,0.075,3.0]|[0.55820147530917...|         2|\n",
            "|  1162|        1|             192|        16|          1|      2.0| 0.08333333333333333|    2.0|[1.0,0.0833333333...|[0.55820147530917...|         2|\n",
            "|  1821|        1|             178|        22|          1|      1.0| 0.12359550561797752|    1.0|[1.0,0.1235955056...|[0.55820147530917...|         2|\n",
            "|  2133|        1|              87|        14|          1|      3.0| 0.16091954022988506|    3.0|[1.0,0.1609195402...|[0.55820147530917...|         2|\n",
            "|  1027|        1|              52|         5|          3|     15.0| 0.09615384615384616|   45.0|[1.0,0.0961538461...|[0.55820147530917...|         1|\n",
            "|   518|        1|             121|        16|          1|      1.0|  0.1322314049586777|    1.0|[1.0,0.1322314049...|[0.55820147530917...|         2|\n",
            "|  2029|        1|              89|         7|          1|     10.0| 0.07865168539325842|   10.0|[1.0,0.0786516853...|[0.55820147530917...|         2|\n",
            "|  2384|        1|              41|         5|          1|      1.0| 0.12195121951219512|    1.0|[1.0,0.1219512195...|[0.55820147530917...|         2|\n",
            "|  1155|        1|              71|        16|          1|     20.0| 0.22535211267605634|   20.0|[1.0,0.2253521126...|[0.55820147530917...|         2|\n",
            "|   564|        1|              34|         3|          1|      1.0| 0.08823529411764706|    1.0|[1.0,0.0882352941...|[0.55820147530917...|         2|\n",
            "+------+---------+----------------+----------+-----------+---------+--------------------+-------+--------------------+--------------------+----------+\n",
            "only showing top 50 rows\n",
            "\n"
          ]
        }
      ]
    },
    {
      "cell_type": "code",
      "source": [
        "KMeans_fit.transform(data_scale_output).groupBy('prediction').count().show()"
      ],
      "metadata": {
        "colab": {
          "base_uri": "https://localhost:8080/"
        },
        "id": "aLC3UQbgZoOW",
        "outputId": "c5738082-fe2f-4b33-aaae-ccb58f63b146"
      },
      "execution_count": null,
      "outputs": [
        {
          "output_type": "stream",
          "name": "stdout",
          "text": [
            "+----------+-----+\n",
            "|prediction|count|\n",
            "+----------+-----+\n",
            "|         1|  272|\n",
            "|         2|  489|\n",
            "|         0|  650|\n",
            "+----------+-----+\n",
            "\n"
          ]
        }
      ]
    },
    {
      "cell_type": "code",
      "source": [
        "clusters_output1=clusters_output.toPandas()"
      ],
      "metadata": {
        "id": "nTVhm8VPKlwl"
      },
      "execution_count": null,
      "outputs": []
    },
    {
      "cell_type": "code",
      "source": [
        "clusters_output1.head()"
      ],
      "metadata": {
        "colab": {
          "base_uri": "https://localhost:8080/",
          "height": 444
        },
        "id": "Zs1LjAb-z4EL",
        "outputId": "6a1eaaec-b089-4cf2-9f5f-f5c577feaa9c"
      },
      "execution_count": null,
      "outputs": [
        {
          "output_type": "execute_result",
          "data": {
            "text/plain": [
              "   userId  teamLevel  count_gameclicks  count_hits  count_buyId  avg_price  \\\n",
              "0     937          1                39           0            1        1.0   \n",
              "1    1623          1               129           9            1       10.0   \n",
              "2      83          1               102          14            1        5.0   \n",
              "3     121          1                39           4            1        3.0   \n",
              "4     462          1                90          10            1        3.0   \n",
              "\n",
              "   hit_accuracy  revenue                          features  \\\n",
              "0      0.000000      1.0                   [1.0, 0.0, 1.0]   \n",
              "1      0.069767     10.0  [1.0, 0.06976744186046512, 10.0]   \n",
              "2      0.137255      5.0   [1.0, 0.13725490196078433, 5.0]   \n",
              "3      0.102564      3.0   [1.0, 0.10256410256410256, 3.0]   \n",
              "4      0.111111      3.0    [1.0, 0.1111111111111111, 3.0]   \n",
              "\n",
              "                                        standardized  prediction  \n",
              "0     [0.5582014753091764, 0.0, 0.07791326693814196]           2  \n",
              "1  [0.5582014753091764, 1.9286267633957108, 0.779...           2  \n",
              "2  [0.5582014753091764, 3.7942265083797975, 0.389...           2  \n",
              "3  [0.5582014753091764, 2.8352461820860024, 0.233...           2  \n",
              "4  [0.5582014753091764, 3.0715166972598356, 0.233...           2  "
            ],
            "text/html": [
              "\n",
              "  <div id=\"df-661aa5f4-aa79-42e0-9246-9075dbe87982\">\n",
              "    <div class=\"colab-df-container\">\n",
              "      <div>\n",
              "<style scoped>\n",
              "    .dataframe tbody tr th:only-of-type {\n",
              "        vertical-align: middle;\n",
              "    }\n",
              "\n",
              "    .dataframe tbody tr th {\n",
              "        vertical-align: top;\n",
              "    }\n",
              "\n",
              "    .dataframe thead th {\n",
              "        text-align: right;\n",
              "    }\n",
              "</style>\n",
              "<table border=\"1\" class=\"dataframe\">\n",
              "  <thead>\n",
              "    <tr style=\"text-align: right;\">\n",
              "      <th></th>\n",
              "      <th>userId</th>\n",
              "      <th>teamLevel</th>\n",
              "      <th>count_gameclicks</th>\n",
              "      <th>count_hits</th>\n",
              "      <th>count_buyId</th>\n",
              "      <th>avg_price</th>\n",
              "      <th>hit_accuracy</th>\n",
              "      <th>revenue</th>\n",
              "      <th>features</th>\n",
              "      <th>standardized</th>\n",
              "      <th>prediction</th>\n",
              "    </tr>\n",
              "  </thead>\n",
              "  <tbody>\n",
              "    <tr>\n",
              "      <th>0</th>\n",
              "      <td>937</td>\n",
              "      <td>1</td>\n",
              "      <td>39</td>\n",
              "      <td>0</td>\n",
              "      <td>1</td>\n",
              "      <td>1.0</td>\n",
              "      <td>0.000000</td>\n",
              "      <td>1.0</td>\n",
              "      <td>[1.0, 0.0, 1.0]</td>\n",
              "      <td>[0.5582014753091764, 0.0, 0.07791326693814196]</td>\n",
              "      <td>2</td>\n",
              "    </tr>\n",
              "    <tr>\n",
              "      <th>1</th>\n",
              "      <td>1623</td>\n",
              "      <td>1</td>\n",
              "      <td>129</td>\n",
              "      <td>9</td>\n",
              "      <td>1</td>\n",
              "      <td>10.0</td>\n",
              "      <td>0.069767</td>\n",
              "      <td>10.0</td>\n",
              "      <td>[1.0, 0.06976744186046512, 10.0]</td>\n",
              "      <td>[0.5582014753091764, 1.9286267633957108, 0.779...</td>\n",
              "      <td>2</td>\n",
              "    </tr>\n",
              "    <tr>\n",
              "      <th>2</th>\n",
              "      <td>83</td>\n",
              "      <td>1</td>\n",
              "      <td>102</td>\n",
              "      <td>14</td>\n",
              "      <td>1</td>\n",
              "      <td>5.0</td>\n",
              "      <td>0.137255</td>\n",
              "      <td>5.0</td>\n",
              "      <td>[1.0, 0.13725490196078433, 5.0]</td>\n",
              "      <td>[0.5582014753091764, 3.7942265083797975, 0.389...</td>\n",
              "      <td>2</td>\n",
              "    </tr>\n",
              "    <tr>\n",
              "      <th>3</th>\n",
              "      <td>121</td>\n",
              "      <td>1</td>\n",
              "      <td>39</td>\n",
              "      <td>4</td>\n",
              "      <td>1</td>\n",
              "      <td>3.0</td>\n",
              "      <td>0.102564</td>\n",
              "      <td>3.0</td>\n",
              "      <td>[1.0, 0.10256410256410256, 3.0]</td>\n",
              "      <td>[0.5582014753091764, 2.8352461820860024, 0.233...</td>\n",
              "      <td>2</td>\n",
              "    </tr>\n",
              "    <tr>\n",
              "      <th>4</th>\n",
              "      <td>462</td>\n",
              "      <td>1</td>\n",
              "      <td>90</td>\n",
              "      <td>10</td>\n",
              "      <td>1</td>\n",
              "      <td>3.0</td>\n",
              "      <td>0.111111</td>\n",
              "      <td>3.0</td>\n",
              "      <td>[1.0, 0.1111111111111111, 3.0]</td>\n",
              "      <td>[0.5582014753091764, 3.0715166972598356, 0.233...</td>\n",
              "      <td>2</td>\n",
              "    </tr>\n",
              "  </tbody>\n",
              "</table>\n",
              "</div>\n",
              "      <button class=\"colab-df-convert\" onclick=\"convertToInteractive('df-661aa5f4-aa79-42e0-9246-9075dbe87982')\"\n",
              "              title=\"Convert this dataframe to an interactive table.\"\n",
              "              style=\"display:none;\">\n",
              "        \n",
              "  <svg xmlns=\"http://www.w3.org/2000/svg\" height=\"24px\"viewBox=\"0 0 24 24\"\n",
              "       width=\"24px\">\n",
              "    <path d=\"M0 0h24v24H0V0z\" fill=\"none\"/>\n",
              "    <path d=\"M18.56 5.44l.94 2.06.94-2.06 2.06-.94-2.06-.94-.94-2.06-.94 2.06-2.06.94zm-11 1L8.5 8.5l.94-2.06 2.06-.94-2.06-.94L8.5 2.5l-.94 2.06-2.06.94zm10 10l.94 2.06.94-2.06 2.06-.94-2.06-.94-.94-2.06-.94 2.06-2.06.94z\"/><path d=\"M17.41 7.96l-1.37-1.37c-.4-.4-.92-.59-1.43-.59-.52 0-1.04.2-1.43.59L10.3 9.45l-7.72 7.72c-.78.78-.78 2.05 0 2.83L4 21.41c.39.39.9.59 1.41.59.51 0 1.02-.2 1.41-.59l7.78-7.78 2.81-2.81c.8-.78.8-2.07 0-2.86zM5.41 20L4 18.59l7.72-7.72 1.47 1.35L5.41 20z\"/>\n",
              "  </svg>\n",
              "      </button>\n",
              "      \n",
              "  <style>\n",
              "    .colab-df-container {\n",
              "      display:flex;\n",
              "      flex-wrap:wrap;\n",
              "      gap: 12px;\n",
              "    }\n",
              "\n",
              "    .colab-df-convert {\n",
              "      background-color: #E8F0FE;\n",
              "      border: none;\n",
              "      border-radius: 50%;\n",
              "      cursor: pointer;\n",
              "      display: none;\n",
              "      fill: #1967D2;\n",
              "      height: 32px;\n",
              "      padding: 0 0 0 0;\n",
              "      width: 32px;\n",
              "    }\n",
              "\n",
              "    .colab-df-convert:hover {\n",
              "      background-color: #E2EBFA;\n",
              "      box-shadow: 0px 1px 2px rgba(60, 64, 67, 0.3), 0px 1px 3px 1px rgba(60, 64, 67, 0.15);\n",
              "      fill: #174EA6;\n",
              "    }\n",
              "\n",
              "    [theme=dark] .colab-df-convert {\n",
              "      background-color: #3B4455;\n",
              "      fill: #D2E3FC;\n",
              "    }\n",
              "\n",
              "    [theme=dark] .colab-df-convert:hover {\n",
              "      background-color: #434B5C;\n",
              "      box-shadow: 0px 1px 3px 1px rgba(0, 0, 0, 0.15);\n",
              "      filter: drop-shadow(0px 1px 2px rgba(0, 0, 0, 0.3));\n",
              "      fill: #FFFFFF;\n",
              "    }\n",
              "  </style>\n",
              "\n",
              "      <script>\n",
              "        const buttonEl =\n",
              "          document.querySelector('#df-661aa5f4-aa79-42e0-9246-9075dbe87982 button.colab-df-convert');\n",
              "        buttonEl.style.display =\n",
              "          google.colab.kernel.accessAllowed ? 'block' : 'none';\n",
              "\n",
              "        async function convertToInteractive(key) {\n",
              "          const element = document.querySelector('#df-661aa5f4-aa79-42e0-9246-9075dbe87982');\n",
              "          const dataTable =\n",
              "            await google.colab.kernel.invokeFunction('convertToInteractive',\n",
              "                                                     [key], {});\n",
              "          if (!dataTable) return;\n",
              "\n",
              "          const docLinkHtml = 'Like what you see? Visit the ' +\n",
              "            '<a target=\"_blank\" href=https://colab.research.google.com/notebooks/data_table.ipynb>data table notebook</a>'\n",
              "            + ' to learn more about interactive tables.';\n",
              "          element.innerHTML = '';\n",
              "          dataTable['output_type'] = 'display_data';\n",
              "          await google.colab.output.renderOutput(dataTable, element);\n",
              "          const docLink = document.createElement('div');\n",
              "          docLink.innerHTML = docLinkHtml;\n",
              "          element.appendChild(docLink);\n",
              "        }\n",
              "      </script>\n",
              "    </div>\n",
              "  </div>\n",
              "  "
            ]
          },
          "metadata": {},
          "execution_count": 39
        }
      ]
    }
  ]
}